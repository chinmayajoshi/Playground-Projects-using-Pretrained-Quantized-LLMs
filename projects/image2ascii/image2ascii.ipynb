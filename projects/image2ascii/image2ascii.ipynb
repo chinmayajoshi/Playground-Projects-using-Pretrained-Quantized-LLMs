{
 "cells": [
  {
   "cell_type": "code",
   "execution_count": 10,
   "metadata": {},
   "outputs": [],
   "source": [
    "import cv2\n",
    "from urllib.request import urlopen\n",
    "import numpy as np\n",
    "from PIL import Image\n",
    "from matplotlib import pyplot as plt\n",
    "\n",
    "from torchvision.datasets import CIFAR10"
   ]
  },
  {
   "cell_type": "code",
   "execution_count": 4,
   "metadata": {},
   "outputs": [],
   "source": [
    "# https://github.com/LeandroBarone/python-ascii_magic\n",
    "# !pip install ascii-magic"
   ]
  },
  {
   "cell_type": "code",
   "execution_count": 5,
   "metadata": {},
   "outputs": [],
   "source": [
    "from ascii_magic import AsciiArt"
   ]
  },
  {
   "cell_type": "code",
   "execution_count": 6,
   "metadata": {},
   "outputs": [],
   "source": [
    "# get random image of size 200\n",
    "# url = r'https://picsum.photos/200'\n",
    "url = r'https://www.cs.toronto.edu/~kriz/cifar-10-sample/dog5.png'\n",
    "resp = urlopen(url).read()"
   ]
  },
  {
   "cell_type": "code",
   "execution_count": 7,
   "metadata": {},
   "outputs": [
    {
     "name": "stdout",
     "output_type": "stream",
     "text": [
      "Image Size: (32, 32, 3)\n"
     ]
    },
    {
     "data": {
      "text/plain": [
       "<matplotlib.image.AxesImage at 0x28694d92fd0>"
      ]
     },
     "execution_count": 7,
     "metadata": {},
     "output_type": "execute_result"
    },
    {
     "data": {
      "image/png": "[encoded data removed]",
      "text/plain": [
       "<Figure size 640x480 with 1 Axes>"
      ]
     },
     "metadata": {},
     "output_type": "display_data"
    }
   ],
   "source": [
    "image = np.asarray(bytearray(resp), dtype=\"uint8\")\n",
    "image = cv2.imdecode(image, cv2.COLOR_RGB2BGR)\n",
    "image = cv2.cvtColor(image, cv2.COLOR_BGR2RGB)\n",
    "\n",
    "print(f'Image Size: {image.shape}')\n",
    "\n",
    "plt.imshow(image)"
   ]
  },
  {
   "cell_type": "code",
   "execution_count": 9,
   "metadata": {},
   "outputs": [
    {
     "name": "stdout",
     "output_type": "stream",
     "text": [
      "00RRRRR0R000000000000RRMMMMMRRRRRRRMMNNNMMMMMMMMMMRRRMMMRRRRRRRRRRRMNWBDHHK@$$@@\n",
      "RRRMMMMMNMMMMNNNNNNNWWBDHHHDBBBBBBDHK@$@@KKHHHHDDDBBBDDDDBBBWNNMMMMMNWWWBBH@$U88\n",
      "00RMMRRRMNBDDHHKKKKKKKKKKKHHDHKK@@$U8&AA&&8UUU$@@KKKKKK@@@@KKDBBWBBBBBWWWWWDDHKK\n",
      "00RMNWBH@$$8&kYZGZYYYkkO&8$$$8AkkkYYYbGZbYYkkOA&8U$$$$U&&&8&OOA&U@KKKKHHDBBDDBWW\n",
      "RRMWDK@U&kZP4hqppqVd4EXGZbGES65FggXEdS66Shd4dVdXbk&8$$U8AAkbGPXXGk&U$@@@KKKKHDBW\n",
      "RMWH$8AYGEVqF3wCw5ShVVg65wL[ri\\)!Tfyf#uu#wffn1I!en5g4gPGZbbGgdSmqdXYA&AOOkO&U@KK\n",
      "RNH8ObPXgdSFwTuuTf5F5fL[r<+;;=\\%}1t]I**}![1[{<=::;\"ir[jw6dXXVSqmmShEZYYYZGGbYA&8\n",
      "BK&bPXXXg4g62wJJJJ#uo[sv>)il}II*c>\";'''':;/\\%I]!{v/;/>%s!Ly532pSV4gPbkA&ObZPPbkO\n",
      "AOZgEXXg4VSpfnTf2yfwJTL71?r%>\",_--```-____`.-,/v*?!1zTJ#u7aeL#w2mhgZk&8U8AYPXPZb\n",
      "kbPdVddVhSp2yfy5pF552wo*%<|+;:_`````....... .`__:/is?tjJy22fTnwpmmgXk&&&88OZXEEE\n",
      "YZXdhhgSmFfJujuCy553JLe?ri\\/^:_.   ...`... .`-'^\"<i%r*?17w6pf#JCf5m4ZkkO&88AkZXE\n",
      "GPgdVhS62#tI}?[ojzoet!*x>\"^:-`..     .``..``...-',;^=/<c}[eooet1t7n5VXGbYkOAOkbb\n",
      "GPgdgm5wL1rv%r*?17uT#Tj1?sv)^'-...      ...       .`:+<c*III*{*}}*?7w6dXEdEGYkkk\n",
      "GP4g62CL1*v\\|<c]L2gdhgqp3JL1{v\\/;'___'::::'____:,=\")s1jC2555522fL!ss?zFdhqgdgPGZ\n",
      "gEhm5fT7[r<+=\"%t#26mmpF2ywJnjtIslccxclr{}?!]1aeo7ooo7LJ5qggSm6m6yL1sx?Jmq66mS4PG\n",
      "g4h62CLt}v/,,=>}o#3FFF3wf2552fTLunuj77jTf56SSSSSSghhSqmqSdE4gm6F3Cu1*!Lw325FmdXP\n",
      "E4g62Cj1s>=_`-^>*LFSSqSShd4dhgSq6F5332F6qghhd4EEEEgXPZbYkkkYPEdgmpyL1I*}1j#36g4E\n",
      "Vhm5fJj[r<^-.`,<*j2pFFqV44E4dVhgSm6ppmqSSSggdgPGGZbYkAAA&&&&AkG4g63#z[{cc{1T2p6m\n",
      "q65wTLo!l<^_``;)*auJwy6hd4E44dhgSSSSSSqmFF6SVEPZbkA&888&&&&&AObP4gpfn7a]{c{euTT#\n",
      "53JLoa!{v);_-_=v?7C256mShVd44dhhhVd4dVS623FmgV4XZYkOAA&88888&kbXEEVpwnje[I{rr?te\n",
      "wJLe[!*x<+:_'^<r1T5mm6pFpmShVdhhd4EXX4hqpFp6mmS4PGPPGbYOA&&AAYGgEE4g62wn71}xic{}\n",
      "CTj1?sx\\=,:,=\\%}auw352wTJ36ShhhV4gXPXEddddVhgSgdEEddd4gPGZbYYYGXXPPgdS5CLe!*rccx\n",
      "w#7?rv<|/==+\\%r}]to7ooeoLw56mShdd4EEgE4dddddddd4EdS6ppppmdPXdgm6gXbPEhqp2ywC#L7o\n",
      "w#7?{lc%i%r*?]1tt!*slls}!t7nC3pmm6mghhhgggghVVVVSw[llIa#2pFJt**?tnw#Lo[tfdqueuf2\n",
      "ZXSfn7eeeo7jLLuuz[{r*?[eeaeojuT###wy2yfwwf25yTL#Cz{%{aCh43a?I!aja{xs!1a7TC7cveFg\n",
      "0RB$kggmFyJJ3mSgVgZOU@HDH@8YXhp3fCJJJ#nL7e1[!!1n22#uw22w#T##Cf565CnnTfFS4g6ze2GA\n"
     ]
    }
   ],
   "source": [
    "# my_art = AsciiArt.from_image('test_image.png')\n",
    "pillow_img = Image.fromarray(image)\n",
    "my_art = AsciiArt.from_pillow_image(pillow_img)\n",
    "ascii_art = my_art.to_ascii(columns=80, width_ratio=3, monochrome=True)\n",
    "print(ascii_art)"
   ]
  },
  {
   "cell_type": "code",
   "execution_count": null,
   "metadata": {},
   "outputs": [],
   "source": []
  }
 ],
 "metadata": {
  "kernelspec": {
   "display_name": "langchain_gguf",
   "language": "python",
   "name": "python3"
  },
  "language_info": {
   "codemirror_mode": {
    "name": "ipython",
    "version": 3
   },
   "file_extension": ".py",
   "mimetype": "text/x-python",
   "name": "python",
   "nbconvert_exporter": "python",
   "pygments_lexer": "ipython3",
   "version": "3.8.16"
  }
 },
 "nbformat": 4,
 "nbformat_minor": 2
}
